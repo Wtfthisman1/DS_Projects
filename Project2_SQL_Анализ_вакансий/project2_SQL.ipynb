{
 "cells": [
  {
   "cell_type": "code",
   "execution_count": 15,
   "metadata": {},
   "outputs": [
    {
     "name": "stdout",
     "output_type": "stream",
     "text": [
      "   count\n",
      "0  49197\n"
     ]
    },
    {
     "name": "stderr",
     "output_type": "stream",
     "text": [
      "C:\\Users\\dmitr\\AppData\\Local\\Temp\\ipykernel_22916\\633571208.py:35: UserWarning: pandas only supports SQLAlchemy connectable (engine/connection) or database string URI or sqlite3 DBAPI2 connection. Other DBAPI2 objects are not tested. Please consider using SQLAlchemy.\n",
      "  df = pd.read_sql_query(query,connection)\n"
     ]
    }
   ],
   "source": [
    "\n",
    "import pandas as pd\n",
    "import psycopg2 as ps\n",
    "\n",
    "\n",
    "DBNAME = 'project_sql'\n",
    "USER = 'skillfactory'\n",
    "PASSWORD = 'cCkxxLVrDE8EbvjueeMedPKt'\n",
    "HOST = '84.201.134.129'\n",
    "PORT = 5432\n",
    "\n",
    "\n",
    "\n",
    "\n",
    "connection = ps.connect(\n",
    "    dbname = DBNAME ,\n",
    "    user = USER,\n",
    "    password = PASSWORD,\n",
    "    host = HOST,\n",
    "    port = PORT\n",
    "    \n",
    "    \n",
    "    \n",
    ")\n",
    "\n",
    "query = f'''\n",
    "select \n",
    "count(id)\n",
    "\n",
    "\n",
    "from vacancies\n",
    "\n",
    "'''\n",
    "\n",
    "\n",
    "df = pd.read_sql_query(query,connection)\n",
    "\n",
    "\n",
    "print(df)\n"
   ]
  },
  {
   "cell_type": "code",
   "execution_count": 16,
   "metadata": {},
   "outputs": [
    {
     "name": "stdout",
     "output_type": "stream",
     "text": [
      "   count\n",
      "0  49197\n",
      "              name  count\n",
      "0           Москва   5333\n",
      "1  Санкт-Петербург   2851\n",
      "2            Минск   2112\n",
      "3      Новосибирск   2006\n",
      "4           Алматы   1892\n"
     ]
    },
    {
     "name": "stderr",
     "output_type": "stream",
     "text": [
      "C:\\Users\\dmitr\\AppData\\Local\\Temp\\ipykernel_22916\\543134892.py:18: UserWarning: pandas only supports SQLAlchemy connectable (engine/connection) or database string URI or sqlite3 DBAPI2 connection. Other DBAPI2 objects are not tested. Please consider using SQLAlchemy.\n",
      "  df = pd.read_sql_query(query,connection)\n"
     ]
    }
   ],
   "source": [
    "print(df.head())\n",
    "\n",
    "\n",
    "\n",
    "query = f'''\n",
    "select \n",
    "        a.name,\n",
    "        count(v.area_id)\n",
    "from areas as a\n",
    "join vacancies as v on v.area_id = a.id\n",
    "group by a.id\n",
    "order by count(v.area_id) desc\n",
    "limit 5\n",
    "\n",
    "'''\n",
    "\n",
    "\n",
    "df = pd.read_sql_query(query,connection)\n",
    "\n",
    "\n",
    "print(df)\n"
   ]
  },
  {
   "cell_type": "code",
   "execution_count": 18,
   "metadata": {},
   "outputs": [
    {
     "name": "stdout",
     "output_type": "stream",
     "text": [
      "   count\n",
      "0  49197\n"
     ]
    },
    {
     "name": "stderr",
     "output_type": "stream",
     "text": [
      "C:\\Users\\dmitr\\AppData\\Local\\Temp\\ipykernel_22916\\858177554.py:10: UserWarning: pandas only supports SQLAlchemy connectable (engine/connection) or database string URI or sqlite3 DBAPI2 connection. Other DBAPI2 objects are not tested. Please consider using SQLAlchemy.\n",
      "  df = pd.read_sql_query(query,connection)\n"
     ]
    }
   ],
   "source": [
    "# Сколько вакансий есть в базе?\n",
    "\n",
    "\n",
    "query = f'''\n",
    "select \n",
    "count(id)\n",
    "from vacancies\n",
    "'''\n",
    "\n",
    "df = pd.read_sql_query(query,connection)\n",
    "print(df)\n"
   ]
  },
  {
   "cell_type": "code",
   "execution_count": 19,
   "metadata": {},
   "outputs": [
    {
     "name": "stdout",
     "output_type": "stream",
     "text": [
      "   count\n",
      "0  23501\n"
     ]
    },
    {
     "name": "stderr",
     "output_type": "stream",
     "text": [
      "C:\\Users\\dmitr\\AppData\\Local\\Temp\\ipykernel_22916\\1179180776.py:7: UserWarning: pandas only supports SQLAlchemy connectable (engine/connection) or database string URI or sqlite3 DBAPI2 connection. Other DBAPI2 objects are not tested. Please consider using SQLAlchemy.\n",
      "  df = pd.read_sql_query(query,connection)\n"
     ]
    }
   ],
   "source": [
    "#Сколько работодателей?\n",
    "query = f'''\n",
    "select \n",
    "count(*)\n",
    "from employers\n",
    "'''\n",
    "df = pd.read_sql_query(query,connection)\n",
    "print(df)\n",
    "\n"
   ]
  },
  {
   "cell_type": "code",
   "execution_count": 20,
   "metadata": {},
   "outputs": [
    {
     "name": "stdout",
     "output_type": "stream",
     "text": [
      "   count\n",
      "0   1362\n"
     ]
    },
    {
     "name": "stderr",
     "output_type": "stream",
     "text": [
      "C:\\Users\\dmitr\\AppData\\Local\\Temp\\ipykernel_22916\\3536820576.py:7: UserWarning: pandas only supports SQLAlchemy connectable (engine/connection) or database string URI or sqlite3 DBAPI2 connection. Other DBAPI2 objects are not tested. Please consider using SQLAlchemy.\n",
      "  df = pd.read_sql_query(query,connection)\n"
     ]
    }
   ],
   "source": [
    "#Сколько регионов?\n",
    "query = f'''\n",
    "select \n",
    "count(*)\n",
    "from areas\n",
    "'''\n",
    "df = pd.read_sql_query(query,connection)\n",
    "print(df)\n",
    "\n",
    "\n"
   ]
  },
  {
   "cell_type": "code",
   "execution_count": 21,
   "metadata": {},
   "outputs": [
    {
     "name": "stdout",
     "output_type": "stream",
     "text": [
      "   count\n",
      "0    294\n"
     ]
    },
    {
     "name": "stderr",
     "output_type": "stream",
     "text": [
      "C:\\Users\\dmitr\\AppData\\Local\\Temp\\ipykernel_22916\\2317977538.py:10: UserWarning: pandas only supports SQLAlchemy connectable (engine/connection) or database string URI or sqlite3 DBAPI2 connection. Other DBAPI2 objects are not tested. Please consider using SQLAlchemy.\n",
      "  df = pd.read_sql_query(query,connection)\n"
     ]
    }
   ],
   "source": [
    "#Сколько сфер деятельности?\n",
    "\n",
    "\n",
    "\n",
    "query = f'''\n",
    "select \n",
    "count(*)\n",
    "from industries\n",
    "'''\n",
    "df = pd.read_sql_query(query,connection)\n",
    "print(df)\n",
    "\n",
    "\n",
    "'''\n",
    "Данные показывают, что рынок труда сконцентрирован в крупных городах, особенно в Москве и Санкт-Петербурге. Однако, активность на рынке также высока в некоторых крупных городах за пределами России, таких как Минск и Алматы.\n",
    "Большое количество работодателей и сфер деятельности свидетельствуют о диверсифицированном рынке труда, предлагающем множество возможностей для соискателей в различных отраслях и регионах.\n",
    "Многообразие вакансий и сфер деятельности в различных регионах указывает на относительно равномерное распределение экономической активности по территории, что может свидетельствовать о стабильности и развитии региональной экономики.\n",
    "\n",
    "'''\n",
    "\n",
    "\n",
    "\n",
    "\n",
    "\n",
    "\n"
   ]
  },
  {
   "cell_type": "code",
   "execution_count": 10,
   "metadata": {},
   "outputs": [
    {
     "name": "stdout",
     "output_type": "stream",
     "text": [
      "              name  count\n",
      "0           Москва   5333\n",
      "1  Санкт-Петербург   2851\n",
      "2            Минск   2112\n",
      "3      Новосибирск   2006\n",
      "4           Алматы   1892\n"
     ]
    },
    {
     "name": "stderr",
     "output_type": "stream",
     "text": [
      "C:\\Users\\dmitr\\AppData\\Local\\Temp\\ipykernel_25508\\2022079522.py:18: UserWarning: pandas only supports SQLAlchemy connectable (engine/connection) or database string URI or sqlite3 DBAPI2 connection. Other DBAPI2 objects are not tested. Please consider using SQLAlchemy.\n",
      "  df = pd.read_sql_query(query,connection)\n"
     ]
    }
   ],
   "source": [
    "#Напишите запрос, который позволит узнать, сколько (cnt) вакансий в каждом регионе (area).\n",
    "\n",
    "#Выберите пятёрку лидеров по количеству вакансий:\n",
    "\n",
    "\n",
    "\n",
    "\n",
    "query = f'''\n",
    "select\n",
    "        a.name,\n",
    "        count(v.id)\n",
    "from areas as a\n",
    "join vacancies as v on a.id = v.area_id\n",
    "group by a.name\n",
    "order by count(v.id) desc\n",
    "limit 5\n",
    "'''\n",
    "df = pd.read_sql_query(query,connection)\n",
    "print(df)\n",
    "\n"
   ]
  },
  {
   "cell_type": "code",
   "execution_count": 22,
   "metadata": {},
   "outputs": [
    {
     "name": "stdout",
     "output_type": "stream",
     "text": [
      "   count\n",
      "0  24073\n"
     ]
    },
    {
     "name": "stderr",
     "output_type": "stream",
     "text": [
      "C:\\Users\\dmitr\\AppData\\Local\\Temp\\ipykernel_25508\\616038970.py:7: UserWarning: pandas only supports SQLAlchemy connectable (engine/connection) or database string URI or sqlite3 DBAPI2 connection. Other DBAPI2 objects are not tested. Please consider using SQLAlchemy.\n",
      "  df = pd.read_sql_query(query,connection)\n"
     ]
    }
   ],
   "source": [
    "#Посмотрим на зарплаты. У какого количества вакансий заполнено хотя бы одно из двух полей с зарплатой\n",
    "\n",
    "\n",
    "query = f'''\n",
    "select\n",
    "        count(id)\n",
    "from vacancies\n",
    "where salary_from is not null or salary_to is not null\n",
    "'''\n",
    "df = pd.read_sql_query(query,connection)\n",
    "print(df)\n"
   ]
  },
  {
   "cell_type": "code",
   "execution_count": 22,
   "metadata": {},
   "outputs": [
    {
     "name": "stdout",
     "output_type": "stream",
     "text": [
      "     lower     upper\n",
      "0  71065.0  110537.0\n"
     ]
    },
    {
     "name": "stderr",
     "output_type": "stream",
     "text": [
      "C:\\Users\\dmitr\\AppData\\Local\\Temp\\ipykernel_22916\\2726061574.py:11: UserWarning: pandas only supports SQLAlchemy connectable (engine/connection) or database string URI or sqlite3 DBAPI2 connection. Other DBAPI2 objects are not tested. Please consider using SQLAlchemy.\n",
      "  df = pd.read_sql_query(query,connection)\n"
     ]
    }
   ],
   "source": [
    "#Найдите средние значения для нижней и верхней границы зарплатной вилки. \n",
    "#Округлите значения до целого числа.\n",
    "\n",
    "\n",
    "query = f'''\n",
    "select\n",
    "        round(avg(salary_from),0) as lower,\n",
    "        round(avg(salary_to),0) as upper\n",
    "from vacancies\n",
    "'''\n",
    "df = pd.read_sql_query(query,connection)\n",
    "print(df)\n"
   ]
  },
  {
   "cell_type": "code",
   "execution_count": 23,
   "metadata": {},
   "outputs": [
    {
     "name": "stdout",
     "output_type": "stream",
     "text": [
      "    count          schedule           employment\n",
      "0   35367       Полный день     Полная занятость\n",
      "1    7802  Удаленная работа     Полная занятость\n",
      "2    1593     Гибкий график     Полная занятость\n",
      "3    1312  Удаленная работа  Частичная занятость\n",
      "4     940    Сменный график     Полная занятость\n",
      "5     569       Полный день           Стажировка\n",
      "6     367    Вахтовый метод     Полная занятость\n",
      "7     347       Полный день  Частичная занятость\n",
      "8     312     Гибкий график  Частичная занятость\n",
      "9     141       Полный день     Проектная работа\n",
      "10    133  Удаленная работа     Проектная работа\n",
      "11    116     Гибкий график           Стажировка\n",
      "12    101    Сменный график  Частичная занятость\n",
      "13     64  Удаленная работа           Стажировка\n",
      "14     18     Гибкий график     Проектная работа\n",
      "15     12    Сменный график           Стажировка\n",
      "16      2    Вахтовый метод     Проектная работа\n",
      "17      1    Сменный график     Проектная работа\n"
     ]
    },
    {
     "name": "stderr",
     "output_type": "stream",
     "text": [
      "C:\\Users\\dmitr\\AppData\\Local\\Temp\\ipykernel_22916\\2208468182.py:15: UserWarning: pandas only supports SQLAlchemy connectable (engine/connection) or database string URI or sqlite3 DBAPI2 connection. Other DBAPI2 objects are not tested. Please consider using SQLAlchemy.\n",
      "  df = pd.read_sql_query(query,connection)\n"
     ]
    }
   ],
   "source": [
    "#Напишите запрос, который выведет количество вакансий для каждого сочетания типа рабочего \n",
    "#графика (schedule) и типа трудоустройства (employment), используемого в вакансиях.\n",
    "#Какая пара находится на втором месте по популярности?\n",
    "\n",
    "\n",
    "query = f'''\n",
    "select\n",
    "        count(id),\n",
    "        schedule,\n",
    "        employment\n",
    "from vacancies \n",
    "group by schedule , employment\n",
    "order by count(id) desc\n",
    "'''\n",
    "df = pd.read_sql_query(query,connection)\n",
    "print(df)\n",
    "\n",
    "\n"
   ]
  },
  {
   "cell_type": "code",
   "execution_count": 24,
   "metadata": {},
   "outputs": [
    {
     "name": "stdout",
     "output_type": "stream",
     "text": [
      "           experience  count\n",
      "0         Более 6 лет   1337\n",
      "1           Нет опыта   7197\n",
      "2       От 3 до 6 лет  14511\n",
      "3  От 1 года до 3 лет  26152\n"
     ]
    },
    {
     "name": "stderr",
     "output_type": "stream",
     "text": [
      "C:\\Users\\dmitr\\AppData\\Local\\Temp\\ipykernel_22916\\92349641.py:16: UserWarning: pandas only supports SQLAlchemy connectable (engine/connection) or database string URI or sqlite3 DBAPI2 connection. Other DBAPI2 objects are not tested. Please consider using SQLAlchemy.\n",
      "  df = pd.read_sql_query(query,connection)\n"
     ]
    }
   ],
   "source": [
    "#Напишите запрос, выводящий значения поля \n",
    "#Требуемый опыт работы (experience) в порядке возрастания количества вакансий, \n",
    "# в которых указан данный вариант опыта.\n",
    "\n",
    "\n",
    "\n",
    "query = f'''\n",
    "select\n",
    "        experience,\n",
    "        count(id)\n",
    "from vacancies \n",
    "where experience is not null\n",
    "group by experience\n",
    "order by count(id) asc\n",
    "'''\n",
    "df = pd.read_sql_query(query,connection)\n",
    "print(df)\n",
    "\n"
   ]
  },
  {
   "cell_type": "code",
   "execution_count": 52,
   "metadata": {},
   "outputs": [
    {
     "name": "stdout",
     "output_type": "stream",
     "text": [
      "            name  count\n",
      "0         Яндекс   1933\n",
      "1  Газпром нефть    331\n"
     ]
    },
    {
     "name": "stderr",
     "output_type": "stream",
     "text": [
      "C:\\Users\\dmitr\\AppData\\Local\\Temp\\ipykernel_25508\\3499838298.py:25: UserWarning: pandas only supports SQLAlchemy connectable (engine/connection) or database string URI or sqlite3 DBAPI2 connection. Other DBAPI2 objects are not tested. Please consider using SQLAlchemy.\n",
      "  df = pd.read_sql_query(query,connection)\n"
     ]
    }
   ],
   "source": [
    "#Напишите запрос, который позволит узнать, какие работодатели находятся на первом и пятом месте по количеству вакансий.\n",
    "\n",
    "query = f'''\n",
    "(select\n",
    "        e.name,\n",
    "        count(v.id)\n",
    "from employers as e\n",
    "join vacancies as v on e.id = v.employer_id\n",
    "group by e.name\n",
    "order by count(v.id) desc\n",
    "limit 1)\n",
    "\n",
    "union all\n",
    "\n",
    "(select\n",
    "        e.name,\n",
    "        count(v.id)\n",
    "from employers as e\n",
    "join vacancies as v on e.id = v.employer_id\n",
    "group by e.name\n",
    "order by count(v.id) desc\n",
    "offset 4 limit 1)\n",
    "\n",
    "'''\n",
    "df = pd.read_sql_query(query,connection)\n",
    "print(df)"
   ]
  },
  {
   "cell_type": "code",
   "execution_count": 25,
   "metadata": {},
   "outputs": [
    {
     "name": "stderr",
     "output_type": "stream",
     "text": [
      "C:\\Users\\dmitr\\AppData\\Local\\Temp\\ipykernel_22916\\1372735694.py:18: UserWarning: pandas only supports SQLAlchemy connectable (engine/connection) or database string URI or sqlite3 DBAPI2 connection. Other DBAPI2 objects are not tested. Please consider using SQLAlchemy.\n",
      "  df = pd.read_sql_query(query,connection)\n"
     ]
    },
    {
     "name": "stdout",
     "output_type": "stream",
     "text": [
      "                               name  count  count\n",
      "0                            Россия      0    410\n",
      "1                         Казахстан      0    207\n",
      "2                Московская область      0     75\n",
      "3                Краснодарский край      0     19\n",
      "4                          Беларусь      0     18\n",
      "..                              ...    ...    ...\n",
      "588                        Кувандык      0      0\n",
      "589                        Куйбышев      0      0\n",
      "590  Куйбышево (Ростовская область)      0      0\n",
      "591                        Култаево      0      0\n",
      "592                        Кульсары      0      0\n",
      "\n",
      "[593 rows x 3 columns]\n"
     ]
    }
   ],
   "source": [
    "#Напишите запрос, который для каждого региона выведет количество работодателей и вакансий в нём.\n",
    "\n",
    "#Среди регионов, в которых нет вакансий, найдите тот, в котором наибольшее количество работодателей.\n",
    "#Впишите его название в поле ниже в том виде, который вернул запрос.\n",
    "\n",
    "query = f'''\n",
    "select\n",
    "        a.name,\n",
    "        count(v.id),\n",
    "        count(e.id)\n",
    "from areas as a\n",
    "left join vacancies as v on a.id = v.area_id\n",
    "left join employers as e on e.area = a.id\n",
    "where v.id is null\n",
    "group by a.name\n",
    "order by count(v.id) desc , count(e.id) desc\n",
    "'''\n",
    "df = pd.read_sql_query(query,connection)\n",
    "print(df)"
   ]
  },
  {
   "cell_type": "code",
   "execution_count": 26,
   "metadata": {},
   "outputs": [
    {
     "name": "stderr",
     "output_type": "stream",
     "text": [
      "C:\\Users\\dmitr\\AppData\\Local\\Temp\\ipykernel_22916\\3515821148.py:18: UserWarning: pandas only supports SQLAlchemy connectable (engine/connection) or database string URI or sqlite3 DBAPI2 connection. Other DBAPI2 objects are not tested. Please consider using SQLAlchemy.\n",
      "  df = pd.read_sql_query(query,connection)\n"
     ]
    },
    {
     "name": "stdout",
     "output_type": "stream",
     "text": [
      "                                 name  region\n",
      "0                              Яндекс     181\n",
      "1                          Ростелеком     152\n",
      "2                            Тинькофф      43\n",
      "3                                СБЕР      24\n",
      "4                       Газпром нефть      24\n",
      "...                               ...     ...\n",
      "14901         Торговый Дом Петровский       1\n",
      "14902                      А2 Юнайтед       1\n",
      "14903                    ТСЦ Дровосек       1\n",
      "14904                  ПАВЛОДАРЭНЕРГО       1\n",
      "14905  ЧЕТЫРЕ ЛАПЫ, Сеть зоомагазинов       1\n",
      "\n",
      "[14906 rows x 2 columns]\n"
     ]
    }
   ],
   "source": [
    "#Для каждого работодателя посчитайте количество регионов, в которых он публикует свои вакансии.\n",
    "\n",
    "#Выберите максимальное значение из получившегося списка.\n",
    "\n",
    "\n",
    "\n",
    "\n",
    "query = f'''\n",
    "select\n",
    "        e.name,\n",
    "        count(distinct a.id) region\n",
    "from employers as e\n",
    "join vacancies as v on e.id = v.employer_id\n",
    "join areas as a on v.area_id = a.id\n",
    "group by e.id \n",
    "order by count(a.id) desc\n",
    "'''\n",
    "df = pd.read_sql_query(query,connection)\n",
    "print(df)"
   ]
  },
  {
   "cell_type": "code",
   "execution_count": 27,
   "metadata": {},
   "outputs": [
    {
     "name": "stdout",
     "output_type": "stream",
     "text": [
      "   count\n",
      "0   8419\n"
     ]
    },
    {
     "name": "stderr",
     "output_type": "stream",
     "text": [
      "C:\\Users\\dmitr\\AppData\\Local\\Temp\\ipykernel_22916\\3789755527.py:12: UserWarning: pandas only supports SQLAlchemy connectable (engine/connection) or database string URI or sqlite3 DBAPI2 connection. Other DBAPI2 objects are not tested. Please consider using SQLAlchemy.\n",
      "  df = pd.read_sql_query(query,connection)\n"
     ]
    }
   ],
   "source": [
    "#Напишите запрос для подсчёта количества работодателей, у которых не указана сфера деятельности.\n",
    "\n",
    "\n",
    "query = f'''\n",
    "select\n",
    "    count(e.id)\n",
    "from employers as e\n",
    "left join employers_industries as em on em.employer_id = e.id\n",
    "left join industries as i on industry_id = i.id\n",
    "where i.id is null\n",
    "'''\n",
    "df = pd.read_sql_query(query,connection)\n",
    "print(df)"
   ]
  },
  {
   "cell_type": "code",
   "execution_count": 36,
   "metadata": {},
   "outputs": [
    {
     "name": "stderr",
     "output_type": "stream",
     "text": [
      "C:\\Users\\dmitr\\AppData\\Local\\Temp\\ipykernel_14804\\2367187142.py:15: UserWarning: pandas only supports SQLAlchemy connectable (engine/connection) or database string URI or sqlite3 DBAPI2 connection. Other DBAPI2 objects are not tested. Please consider using SQLAlchemy.\n",
      "  df = pd.read_sql_query(query,connection)\n"
     ]
    },
    {
     "name": "stdout",
     "output_type": "stream",
     "text": [
      "                 name  count\n",
      "0        101 Интернет      4\n",
      "1            21vek.by      4\n",
      "2                2ГИС      4\n",
      "3                  2К      4\n",
      "4         4 пикселя +      4\n",
      "...               ...    ...\n",
      "1131            ЮРИОН      4\n",
      "1132  ЮТИП Технологии      4\n",
      "1133           ЯКласс      4\n",
      "1134            ЯрНео      4\n",
      "1135    Яшин&Партнёры      4\n",
      "\n",
      "[1136 rows x 2 columns]\n"
     ]
    }
   ],
   "source": [
    "#Напишите запрос, чтобы узнать название компании, находящейся на третьем месте в \n",
    "#алфавитном списке (по названию) компаний, у которых указано четыре сферы деятельности.\n",
    "\n",
    "query = f'''\n",
    "select\n",
    "    e.name\n",
    "    ,count(i.id)\n",
    "from employers as e\n",
    "left join employers_industries as em on em.employer_id = e.id\n",
    "left join industries as i on industry_id = i.id\n",
    "group by e.name\n",
    "having count(i.id) = 4\n",
    "order by e.name \n",
    "'''\n",
    "df = pd.read_sql_query(query,connection)\n",
    "print(df)\n",
    "\n",
    "\n",
    "\n",
    "\n",
    "\n"
   ]
  },
  {
   "cell_type": "code",
   "execution_count": 28,
   "metadata": {},
   "outputs": [
    {
     "name": "stdout",
     "output_type": "stream",
     "text": [
      "   count\n",
      "0   3553\n"
     ]
    },
    {
     "name": "stderr",
     "output_type": "stream",
     "text": [
      "C:\\Users\\dmitr\\AppData\\Local\\Temp\\ipykernel_22916\\2023313502.py:12: UserWarning: pandas only supports SQLAlchemy connectable (engine/connection) or database string URI or sqlite3 DBAPI2 connection. Other DBAPI2 objects are not tested. Please consider using SQLAlchemy.\n",
      "  df = pd.read_sql_query(query,connection)\n"
     ]
    }
   ],
   "source": [
    "#С помощью запроса выясните, у какого количества работодателей в качестве сферы деятельности указана «Разработка программного обеспечения».\n",
    "\n",
    "query = f'''\n",
    "select\n",
    "    count(i.id)\n",
    "from employers as e\n",
    "left join employers_industries as em on em.employer_id = e.id\n",
    "left join industries as i on industry_id = i.id\n",
    "where i.name = 'Разработка программного обеспечения'\n",
    "\n",
    "'''\n",
    "df = pd.read_sql_query(query,connection)\n",
    "print(df)\n",
    "\n",
    "\n"
   ]
  },
  {
   "cell_type": "code",
   "execution_count": 201,
   "metadata": {},
   "outputs": [
    {
     "name": "stdout",
     "output_type": "stream",
     "text": [
      "               name  total\n",
      "0         Волгоград     24\n",
      "1           Воронеж     32\n",
      "2      Екатеринбург     39\n",
      "3            Казань     25\n",
      "4         Краснодар     30\n",
      "5        Красноярск     23\n",
      "6            Москва     54\n",
      "7   Нижний Новгород     36\n",
      "8       Новосибирск     35\n",
      "9              Омск     21\n",
      "10            Пермь     25\n",
      "11   Ростов-на-Дону     25\n",
      "12           Самара     26\n",
      "13  Санкт-Петербург     42\n",
      "14              Уфа     26\n",
      "15        Челябинск     22\n",
      "16            Total    485\n"
     ]
    },
    {
     "name": "stderr",
     "output_type": "stream",
     "text": [
      "C:\\Users\\dmitr\\AppData\\Local\\Temp\\ipykernel_14804\\1123186944.py:56: UserWarning: pandas only supports SQLAlchemy connectable (engine/connection) or database string URI or sqlite3 DBAPI2 connection. Other DBAPI2 objects are not tested. Please consider using SQLAlchemy.\n",
      "  df = pd.read_sql_query(query,connection)\n"
     ]
    }
   ],
   "source": [
    "#Для компании «Яндекс» выведите список регионов-миллионников , в которых представлены вакансии компании,\n",
    "#вместе с количеством вакансий в этих регионах.\n",
    "#Также добавьте строку Total с общим количеством вакансий компании, собранных в этой таблице. \n",
    "#Должна получиться выборка такого вида (приведён пример результата для компании SberTech):\n",
    "\n",
    "import requests \n",
    "from bs4 import BeautifulSoup\n",
    "from pprint import pprint\n",
    "\n",
    "\n",
    "\n",
    "url = 'https://ru.wikipedia.org/wiki/%D0%93%D0%BE%D1%80%D0%BE%D0%B4%D0%B0-%D0%BC%D0%B8%D0%BB%D0%BB%D0%B8%D0%BE%D0%BD%D0%B5%D1%80%D1%8B_%D0%A0%D0%BE%D1%81%D1%81%D0%B8%D0%B8'\n",
    "\n",
    "response = requests.get(url)\n",
    "soup = BeautifulSoup(response.text, 'html.parser')\n",
    "table = soup.find('table' , class_ = \"standard\")\n",
    "city = []\n",
    "table = table.find_all('tr')\n",
    "for  i in table:\n",
    "    cityes = i.find_all('td')\n",
    "    if len(cityes) > 1:\n",
    "        city_name = cityes[1].get_text()\n",
    "        city.append(city_name)\n",
    "\n",
    "\n",
    "\n",
    "city = tuple(city)\n",
    "\n",
    "query = f'''\n",
    "with Area_count as\n",
    "(select\n",
    "    a.name as name\n",
    "    ,count(v.id) as Total\n",
    "from areas as a\n",
    "join vacancies as v on v.area_id = a.id\n",
    "left join employers as e on v.employer_id = e.id\n",
    "where e.name = 'Яндекс' \n",
    "        and a.name in {city}\n",
    "\n",
    "group by a.name\n",
    ")\n",
    "\n",
    "SELECT\n",
    "    name,\n",
    "    Total \n",
    "FROM Area_count\n",
    "\n",
    "union all\n",
    "\n",
    "select\n",
    "        'Total' as name,\n",
    "        cast(sum(Total) as integer)\n",
    "from Area_count\n",
    "\n",
    "'''\n",
    "df = pd.read_sql_query(query,connection)\n",
    "print(df)\n",
    "\n",
    "\n",
    "\n",
    "\n",
    "\n",
    "\n",
    "''' \n",
    "Большинство вакансий предлагают полный рабочий день и полную занятость, что является традиционной моделью занятости. Однако значительное количество вакансий также предлагают удаленную работу, что указывает на растущую популярность гибких форм занятости. Рынок труда предлагает значительное количество вакансий для кандидатов с опытом от 1 года до 3 лет, что может указывать на высокий спрос на специалистов с некоторым уровнем профессионального опыта. Также существует приличное количество возможностей для кандидатов без опыта, что может быть полезным для начинающих специалистов. Данные показывают, что существует значительное количество работодателей в различных регионах, даже в тех, где в данный момент нет активных вакансий. Это может указывать на потенциальные возможности для трудоустройства в будущем. Компании, такие как Яндекс и Ростелеком, являются ведущими работодателями по количеству вакансий, что указывает на их значительное присутствие и активный набор персонала.\n",
    "\n",
    "\n",
    "\n",
    "\n",
    "\n",
    "'''\n",
    "\n",
    "\n"
   ]
  },
  {
   "cell_type": "code",
   "execution_count": 29,
   "metadata": {},
   "outputs": [
    {
     "name": "stdout",
     "output_type": "stream",
     "text": [
      "   count\n",
      "0   1771\n"
     ]
    },
    {
     "name": "stderr",
     "output_type": "stream",
     "text": [
      "C:\\Users\\dmitr\\AppData\\Local\\Temp\\ipykernel_22916\\829530826.py:10: UserWarning: pandas only supports SQLAlchemy connectable (engine/connection) or database string URI or sqlite3 DBAPI2 connection. Other DBAPI2 objects are not tested. Please consider using SQLAlchemy.\n",
      "  df = pd.read_sql_query(query,connection)\n"
     ]
    }
   ],
   "source": [
    "#Сколько вакансий имеет отношение к данным ,nребования работодателей к дата-сайентистам.\n",
    "\n",
    "\n",
    "query = f'''\n",
    "select\n",
    "    count(id)\n",
    "from vacancies\n",
    "where name ILIKE '%data%' or name ILIKE '%данн%'\n",
    "'''\n",
    "df = pd.read_sql_query(query,connection)\n",
    "print(df)\n"
   ]
  },
  {
   "cell_type": "code",
   "execution_count": 30,
   "metadata": {},
   "outputs": [
    {
     "name": "stderr",
     "output_type": "stream",
     "text": [
      "C:\\Users\\dmitr\\AppData\\Local\\Temp\\ipykernel_22916\\4212310690.py:21: UserWarning: pandas only supports SQLAlchemy connectable (engine/connection) or database string URI or sqlite3 DBAPI2 connection. Other DBAPI2 objects are not tested. Please consider using SQLAlchemy.\n",
      "  df = pd.read_sql_query(query,connection)\n"
     ]
    },
    {
     "name": "stdout",
     "output_type": "stream",
     "text": [
      "   count\n",
      "0     51\n"
     ]
    }
   ],
   "source": [
    "\n",
    "#Сколько есть подходящих вакансий для начинающего дата-сайентиста?\n",
    "\n",
    "\n",
    "\n",
    "data_vacancies = ['data scientist'\n",
    "'data science', 'исследователь данных', 'ML' ,'machine learning','машинн%обучен%']\n",
    "\n",
    "data_vacancies = tuple(data_vacancies)\n",
    "\n",
    "query = f'''\n",
    "select\n",
    "    count(v.id)\n",
    "from vacancies as v\n",
    "where\n",
    "    ((v.name ILIKE '%data scientist%' OR \n",
    "    v.name ILIKE '%data science%' OR \n",
    "    v.name ILIKE '%исследователь данных%' OR \n",
    "    v.name LIKE '%ML%' AND v.name NOT LIKE '%HTML%' OR\n",
    "    v.name ILIKE '%machine learning%' OR \n",
    "    v.name ILIKE '%машинн%обучен%'))\n",
    "    and ((v.name Ilike '%junior%' or \n",
    "    experience = 'Нет опыта' \n",
    "    or employment = 'Стажировка'))\n",
    "'''\n",
    "df = pd.read_sql_query(query,connection)\n",
    "print(df)\n",
    "\n",
    "\n",
    "\n"
   ]
  },
  {
   "cell_type": "code",
   "execution_count": 264,
   "metadata": {},
   "outputs": [
    {
     "name": "stderr",
     "output_type": "stream",
     "text": [
      "C:\\Users\\dmitr\\AppData\\Local\\Temp\\ipykernel_14804\\2788091821.py:19: UserWarning: pandas only supports SQLAlchemy connectable (engine/connection) or database string URI or sqlite3 DBAPI2 connection. Other DBAPI2 objects are not tested. Please consider using SQLAlchemy.\n",
      "  df = pd.read_sql_query(query,connection)\n"
     ]
    },
    {
     "name": "stdout",
     "output_type": "stream",
     "text": [
      "   count\n",
      "0    201\n"
     ]
    }
   ],
   "source": [
    "#Сколько есть вакансий для DS, в которых в качестве ключевого навыка указан SQL или postgres?\n",
    "\n",
    "\n",
    "query = f'''\n",
    "select\n",
    "    count(v.id)\n",
    "from vacancies as v \n",
    "where\n",
    "    (v.name ILIKE '%data scientist%' OR \n",
    "    v.name ILIKE '%data science%' OR \n",
    "    v.name ILIKE '%исследователь данных%' OR \n",
    "    v.name LIKE '%ML%' AND v.name NOT LIKE '%HTML%' OR\n",
    "    v.name ILIKE '%machine learning%' OR \n",
    "    v.name ILIKE '%машинн%обучен%') \n",
    "    and\n",
    "    (v.key_skills ILIKE '%postgres%' or v.key_skills ILIKE '%SQL%')\n",
    "\n",
    "'''\n",
    "df = pd.read_sql_query(query,connection)\n",
    "print(df)\n",
    "\n",
    "\n"
   ]
  },
  {
   "cell_type": "code",
   "execution_count": 311,
   "metadata": {},
   "outputs": [
    {
     "name": "stderr",
     "output_type": "stream",
     "text": [
      "C:\\Users\\dmitr\\AppData\\Local\\Temp\\ipykernel_14804\\1522959564.py:32: UserWarning: pandas only supports SQLAlchemy connectable (engine/connection) or database string URI or sqlite3 DBAPI2 connection. Other DBAPI2 objects are not tested. Please consider using SQLAlchemy.\n",
      "  df = pd.read_sql_query(query,connection)\n"
     ]
    },
    {
     "name": "stdout",
     "output_type": "stream",
     "text": [
      "   round\n",
      "0   6.41\n"
     ]
    }
   ],
   "source": [
    "#С помощью запроса, аналогичного предыдущему, проверьте, насколько популярен Python в требованиях работодателей к DS. \n",
    "# Вычислите количество вакансий, в которых в качестве ключевого навыка указан Python.\n",
    "\n",
    "query = f'''\n",
    "with MeanSkill as(\n",
    "select\n",
    "    Length(v.key_skills) - length(replace(v.key_skills, CHR(9) , '' ))+ 1 as skills\n",
    "from vacancies as v \n",
    "where\n",
    "    (v.name ILIKE '%data scientist%' OR \n",
    "    v.name ILIKE '%data science%' OR \n",
    "    v.name ILIKE '%исследователь данных%' OR \n",
    "    (v.name LIKE '%ML%' AND v.name NOT LIKE '%HTML%') OR\n",
    "    v.name ILIKE '%machine learning%' OR \n",
    "    v.name ILIKE '%машинн%обучен%')\n",
    "    and v.key_skills is not null\n",
    "    )\n",
    "\n",
    "select \n",
    "    round(avg(skills),2)\n",
    "from MeanSkill    \n",
    "    \n",
    "    \n",
    "    \n",
    "    \n",
    "    \n",
    "    \n",
    "    \n",
    "'''\n",
    "\n",
    "\n",
    "df = pd.read_sql_query(query,connection)\n",
    "print(df)\n",
    "\n",
    "\n",
    "\n",
    "\n",
    "\n",
    "\n",
    "\n",
    "\n",
    "\n"
   ]
  },
  {
   "cell_type": "code",
   "execution_count": 31,
   "metadata": {},
   "outputs": [
    {
     "name": "stderr",
     "output_type": "stream",
     "text": [
      "C:\\Users\\dmitr\\AppData\\Local\\Temp\\ipykernel_22916\\3308612235.py:34: UserWarning: pandas only supports SQLAlchemy connectable (engine/connection) or database string URI or sqlite3 DBAPI2 connection. Other DBAPI2 objects are not tested. Please consider using SQLAlchemy.\n",
      "  df = pd.read_sql_query(query, connection)\n"
     ]
    },
    {
     "name": "stdout",
     "output_type": "stream",
     "text": [
      "           experience  avg_salary\n",
      "0       От 3 до 6 лет    243115.0\n",
      "1  От 1 года до 3 лет    139675.0\n",
      "2           Нет опыта     74643.0\n"
     ]
    }
   ],
   "source": [
    "#Напишите запрос, позволяющий вычислить, какую зарплату для DS в среднем указывают для каждого типа требуемого опыта (уникальное значение из поля experience.'\n",
    "#При решении задачи примите во внимание следующее:\n",
    "\n",
    "#Рассматриваем только вакансии, у которых заполнено хотя бы одно из двух полей с зарплатой.\n",
    "#Если заполнены оба поля с зарплатой, считаем зарплату по каждой вакансии как сумму двух полей, делённую на 2. Если заполнено только одно из полей, его и считаем зарплатой по вакансии.\n",
    "#Если в расчётах участвует null, в результате он тоже даст null (посмотрите, что возвращает запрос select 1 + null).\n",
    "#Чтобы избежать этой ситуации, мы воспользуемся функцией coalesce , которая заменит null на значение, которое мы передадим. Например, посмотрите, что возвращает запрос select 1 + coalesce(null, 0).\n",
    "#Выясните, на какую зарплату в среднем может рассчитывать дата-сайентист с опытом работы от 3 до 6 лет. Результат округлите до целого числа.\n",
    "\n",
    "\n",
    "query = f'''\n",
    "with MeanSalary as (\n",
    "    select\n",
    "        experience,\n",
    "        (coalesce(salary_from, salary_to) + coalesce(salary_to, salary_from)) / 2 as mean\n",
    "    from vacancies as v \n",
    "    where\n",
    "        (v.name ILIKE '%data scientist%' OR \n",
    "        v.name ILIKE '%data science%' OR \n",
    "        v.name ILIKE '%исследователь данных%' OR \n",
    "        (v.name LIKE '%ML%' AND v.name NOT LIKE '%HTML%') OR\n",
    "        v.name ILIKE '%machine learning%' OR \n",
    "        v.name ILIKE '%машинн%обучен%')\n",
    "        and (salary_from is not null or salary_to is not null)\n",
    ")\n",
    "select\n",
    "    experience,\n",
    "    round(avg(mean), 0) as avg_salary\n",
    "from \n",
    "    MeanSalary\n",
    "group by experience\n",
    "'''\n",
    "\n",
    "df = pd.read_sql_query(query, connection)\n",
    "print(df)\n"
   ]
  }
 ],
 "metadata": {
  "kernelspec": {
   "display_name": "Python 3",
   "language": "python",
   "name": "python3"
  },
  "language_info": {
   "codemirror_mode": {
    "name": "ipython",
    "version": 3
   },
   "file_extension": ".py",
   "mimetype": "text/x-python",
   "name": "python",
   "nbconvert_exporter": "python",
   "pygments_lexer": "ipython3",
   "version": "3.8.10"
  }
 },
 "nbformat": 4,
 "nbformat_minor": 2
}
